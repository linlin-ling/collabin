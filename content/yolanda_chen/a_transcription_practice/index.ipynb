{
 "cells": [
  {
   "cell_type": "markdown",
   "metadata": {},
   "source": [
    "# 本週進行一個轉寫練習，轉寫內容有兩段對話。\n"
   ]
  },
  {
   "cell_type": "markdown",
   "metadata": {},
   "source": [
    "# 1. 轉寫內容說明：\n",
    "## A. 對話A： 美食節目「型男大主廚」的其中一段「如何製作蛋包飯」（轉寫自00:05:10至00:07:42） \n",
    "## B. 對話B：兩位女性正在討論一場重大車禍（轉寫自00:06:00至00:08:30）"
   ]
  },
  {
   "cell_type": "markdown",
   "metadata": {},
   "source": [
    "# 2. 轉寫影音背景說明：\n",
    "## A. 對話A為多人對話，其中包含6人：兩位男性主廚CheJ(詹姆士)和CheA(阿基師)；男主持人和女主持人HosM (曾國城)和HosF(陳喬恩)；兩位日本籍來賓GueA(愛紗)和GueB(相馬茜)。CheJ和HosM站在放有炒鍋和食材的桌子前，CheA、HosF和GueA、GueB則分別兩兩站在旁邊看CheJ炒菜。\n",
    "## B. 對話B為兩人對話，音檔中兩位女性正在討論一場重大車禍，兩位女性分別為左女(A)和右女(B)。"
   ]
  },
  {
   "cell_type": "markdown",
   "metadata": {},
   "source": [
    "# 3. 影音來源：(需要access請來信r06142009@ntu.edu.tw)\n",
    "## A. 對話A：Team Drive (Google Drive) LOPE > LOPERs > Yolanda > 0412 Discourse Transcription > 影片A四蛋包飯.m4v\n",
    "## B. 對話B：Team Drive (Google Drive) LOPE > LOPERs > Yolanda > 0412 Discourse Transcription > 影片B音檔.m4a"
   ]
  },
  {
   "cell_type": "markdown",
   "metadata": {},
   "source": [
    "# 4. 轉寫動機\n",
    "## 轉寫目的：作為Discourse Analysis term paper的轉寫練習。\n",
    "## 轉寫時間：共計花費時間約10小時。"
   ]
  },
  {
   "cell_type": "markdown",
   "metadata": {},
   "source": [
    "# 5. 轉寫採用系統：CA (Conversation Analysis) conventions as currently revised (Jafferson, 2002; Hutchby and Wooffitt, 2008)\n",
    "## 參考資料：\n",
    "## 5-1. Transcription Conventions (Jafferson, 2002)\n",
    "## 5-2. Comparison of Transcription Symbols\n",
    "## 5-3. Transcription Glossary (Hutchby and Wooffitt, 2008)\n",
    "\n",
    "### 以上文獻PDF檔可在雲端中找到：\n",
    "### Team Drive (Google Drive) LOPE > LOPERs > Yolanda > 0412 Discourse > CA transcription system (folder)"
   ]
  },
  {
   "cell_type": "markdown",
   "metadata": {},
   "source": [
    "# 6. 轉寫：\n",
    "## 文件可在雲端中找到：\n",
    "### Team Drive (Google Drive) LOPE > LOPERs > Yolanda > 0412 Discourse > transcription.docx"
   ]
  },
  {
   "cell_type": "markdown",
   "metadata": {},
   "source": [
    "# 7. 反思：\n",
    "## 轉寫真實語料是一件勞心勞力的事情，且其中充滿不確定性。\n",
    "## 其一，我的流程是先打完逐字稿，再依照CA系統開始標記。一開始我花了超過五個小時去了解CA系統的邏輯、CA系統與DT1(Du Bois, 1991; Du Bois et al., 1992; Du Bois et al., 1993)和DT2 (Discourse conventions as currently revised)的不同，並且提高對於對話中的每個features的感知敏感程度，才漸漸上手，不過走到這一步也已經花了非常多時間。\n",
    "## 其二，語料A的轉寫非常棘手，大致可歸納成三個原因：\n",
    "## A. 多人對話的turn-taking很難精確定義，常常有多人同時overlapping的狀況；原先CA的設計是overlapping用中括號來表示，但在多人情境中，我會加上數字（如[1 Your overlapping sentence from speaker a]對齊[1 Your overlapping sentence from speaker b]，[2 Your overlapping sentence from speaker b]對齊[2 Your overlapping sentence from speaker c]）來標示。\n",
    "## B. 有許多不同語言的雜燴和口音造成的語誤。因為來賓是日本人，口音的標示並沒有明確規範，若該口音並不影響內容，則不會特別標示，但若該語誤會造成語意上難以理解，或是成為下一個turn的antecedent（如主持人開來賓的特定口音玩笑）等，才會特別標示。\n",
    "## C. 嘲諷的難處來自於主持人太愛開日本來賓的玩笑，如主廚名為「詹姆士」，來賓愛紗在一個對話pair中說到「果然是」，但是發的不太標準，聽起來像是「Go-Lan-是」，主持人就把他拿來當作「詹姆士」的諧音。在這個狀況下，我選擇使用拼音而非找諧音字，以求能精準表達唸音不標準的原因(L1 Japanese的音韻影響L2/3中文音韻)。\n",
    "## 其三，對話B就顯得相當平易近人。這份作業花了我非常多青春，不過也體驗到真實口語語料的有趣以及繁複；標記過程中其實很好玩，就像是日常對話的小頗析一樣（也是平常我們同溫層的喜好之一）。並且，在標記過程中常常驚訝地發現肉耳聽不出來的patterns--如廚師詹姆士的習慣加快自己的「虛詞」語速，或者是主持人曾國城常會在日本來賓發言後替自己的中文語句增加一點點簡單的日語（如「です」），顯得有點可愛XD。"
   ]
  },
  {
   "cell_type": "code",
   "execution_count": null,
   "metadata": {},
   "outputs": [],
   "source": []
  },
  {
   "cell_type": "code",
   "execution_count": null,
   "metadata": {},
   "outputs": [],
   "source": []
  },
  {
   "cell_type": "code",
   "execution_count": null,
   "metadata": {},
   "outputs": [],
   "source": []
  },
  {
   "cell_type": "code",
   "execution_count": null,
   "metadata": {},
   "outputs": [],
   "source": []
  },
  {
   "cell_type": "code",
   "execution_count": null,
   "metadata": {},
   "outputs": [],
   "source": []
  },
  {
   "cell_type": "code",
   "execution_count": null,
   "metadata": {},
   "outputs": [],
   "source": []
  }
 ],
 "metadata": {
  "kernelspec": {
   "display_name": "Python 3",
   "language": "python",
   "name": "python3"
  },
  "language_info": {
   "codemirror_mode": {
    "name": "ipython",
    "version": 3
   },
   "file_extension": ".py",
   "mimetype": "text/x-python",
   "name": "python",
   "nbconvert_exporter": "python",
   "pygments_lexer": "ipython3",
   "version": "3.6.3"
  }
 },
 "nbformat": 4,
 "nbformat_minor": 2
}
