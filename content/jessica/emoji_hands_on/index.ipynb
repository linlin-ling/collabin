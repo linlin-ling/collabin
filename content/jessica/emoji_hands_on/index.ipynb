{
 "cells": [
  {
   "cell_type": "markdown",
   "metadata": {},
   "source": [
    "# 💡W4 Microblog\n",
    "# 📍 Emoji Hands-on"
   ]
  },
  {
   "cell_type": "markdown",
   "metadata": {},
   "source": [
    "上週老師在meeting上提到emoji，讓我注意到emoji在我們日常生活的溝通中真是無所不在啊～～它既增添了語言的樂趣，也可以輔助表達出文字中沒透露出的情緒。\n",
    "比如說，當你要請別人幫你填一份問卷時，如果說：「拜託🥺 」就比單純得只說「拜託」感覺語氣再和緩(誠懇?)一點，也感覺沒那麼兇，對方答應的機會比較高。\n",
    "於是我上網找了一些emoji的資料，發現Emoji背後都是unicode編碼。關於emoji最權威的資料是[Emoji Charts](https://unicode.org/emoji/charts/emoji-list.html)，\n",
    "可以看到每個表情符號的unicode編碼、圖示、關鍵字、跟CLDR Short Name(簡釋的概念)。 \n",
    "首先，第一個讓我最好奇的是如何在python裡顯示emoji呢？"
   ]
  },
  {
   "cell_type": "markdown",
   "metadata": {},
   "source": [
    "### 在Python裡顯示emoji"
   ]
  },
  {
   "cell_type": "markdown",
   "metadata": {},
   "source": [
    "輸入CLDR Short Name，\n",
    "輸出圖示"
   ]
  },
  {
   "cell_type": "code",
   "execution_count": 9,
   "metadata": {},
   "outputs": [
    {
     "name": "stdout",
     "output_type": "stream",
     "text": [
      "Python is ✋\n"
     ]
    }
   ],
   "source": [
    "import emoji\n",
    "print(emoji.emojize('Python is :raised_hand:', use_aliases=True))"
   ]
  },
  {
   "cell_type": "markdown",
   "metadata": {},
   "source": [
    "如果＋s(複數)上去會變成......?"
   ]
  },
  {
   "cell_type": "code",
   "execution_count": 8,
   "metadata": {},
   "outputs": [
    {
     "name": "stdout",
     "output_type": "stream",
     "text": [
      "Python is 🙌\n"
     ]
    }
   ],
   "source": [
    "print(emoji.emojize('Python is :raised_hands:', use_aliases=True))\n"
   ]
  },
  {
   "cell_type": "markdown",
   "metadata": {},
   "source": [
    "兩隻手！！"
   ]
  },
  {
   "cell_type": "markdown",
   "metadata": {},
   "source": [
    "也可以反過來，貼上表情符號，輸出CLDR Short Name"
   ]
  },
  {
   "cell_type": "code",
   "execution_count": 10,
   "metadata": {},
   "outputs": [
    {
     "name": "stdout",
     "output_type": "stream",
     "text": [
      "Python is :thumbs_up:\n"
     ]
    }
   ],
   "source": [
    "print(emoji.demojize('Python is 👍'))"
   ]
  },
  {
   "cell_type": "markdown",
   "metadata": {},
   "source": [
    "### 進階版的emoji顯示，可以改膚色！！"
   ]
  },
  {
   "cell_type": "markdown",
   "metadata": {},
   "source": [
    "man_list 分别是: 男孩  女孩  男人  女人"
   ]
  },
  {
   "cell_type": "code",
   "execution_count": 11,
   "metadata": {},
   "outputs": [
    {
     "name": "stdout",
     "output_type": "stream",
     "text": [
      "👦\n",
      "👦🏻\n",
      "👦🏼\n",
      "👦🏽\n",
      "👦🏾\n",
      "👦🏿\n",
      "--------------------\n",
      "👧\n",
      "👧🏻\n",
      "👧🏼\n",
      "👧🏽\n",
      "👧🏾\n",
      "👧🏿\n",
      "--------------------\n",
      "👨\n",
      "👨🏻\n",
      "👨🏼\n",
      "👨🏽\n",
      "👨🏾\n",
      "👨🏿\n",
      "--------------------\n",
      "👩\n",
      "👩🏻\n",
      "👩🏼\n",
      "👩🏽\n",
      "👩🏾\n",
      "👩🏿\n",
      "--------------------\n",
      "👨‍👩‍👧\n"
     ]
    }
   ],
   "source": [
    "man_list = [u'\\U0001F466', u'\\U0001F467', u'\\U0001F468', u'\\U0001F469']\n",
    "# skin_color_list 分别是: 空字串,表示默認白種人 -->(不斷加深膚色) 黑種人\n",
    "skin_color_list = ['', u'\\U0001F3FB', u'\\U0001F3FC', u'\\U0001F3FD', u'\\U0001F3FE', u'\\U0001F3FF', ]\n",
    "for man in man_list:\n",
    "    for color in skin_color_list:\n",
    "        print (man + color),\n",
    "    \n",
    "    print ('-' * 20)\n",
    "\n",
    "#把人加在一起，變成一家人！！\n",
    "print (u'\\U0001F468' + u'\\u200D' + u'\\U0001F469' + u'\\u200D' + u'\\U0001F467')\n"
   ]
  },
  {
   "cell_type": "markdown",
   "metadata": {},
   "source": [
    "### 找出字串中的Emoji：使用REGEX"
   ]
  },
  {
   "cell_type": "code",
   "execution_count": 13,
   "metadata": {},
   "outputs": [
    {
     "name": "stdout",
     "output_type": "stream",
     "text": [
      "I have a dog [Emoji] . You have a cat [Emoji] ! I smile [Emoji] to you!\n",
      "['🐶', '🐱', '😁']\n"
     ]
    }
   ],
   "source": [
    "import re\n",
    "try:\n",
    "    \n",
    "    myre = re.compile(u'['\n",
    "        u'\\U0001F300-\\U0001F64F'\n",
    "        u'\\U0001F680-\\U0001F6FF'\n",
    "        u'\\u2600-\\u2B55]+',\n",
    "        re.UNICODE)\n",
    "except re.error:\n",
    "    \n",
    "    myre = re.compile(u'('\n",
    "        u'\\ud83c[\\udf00-\\udfff]|'\n",
    "        u'\\ud83d[\\udc00-\\ude4f\\ude80-\\udeff]|'\n",
    "        u'[\\u2600-\\u2B55])+',\n",
    "        re.UNICODE)\n",
    "\n",
    "sss = u'I have a dog \\U0001f436 . You have a cat \\U0001f431 ! I smile \\U0001f601 to you!'\n",
    "print (myre.sub('[Emoji]', sss) ) # 顯示字串中Emoji的位置\n",
    "print (myre.findall(sss))         # 找出字串中的Emoji"
   ]
  },
  {
   "cell_type": "markdown",
   "metadata": {},
   "source": [
    "### 蝦米！？有EmojiNet? "
   ]
  },
  {
   "cell_type": "markdown",
   "metadata": {},
   "source": [
    "在找資料的過程中，我發現居然有人做過[EmojiNet](http://emojinet.knoesis.org/home.php)!!大致上就是把表情符號弄當成是文字一樣，做成像是CWN，把每個表情符號的sense做embedding~好厲害啊啊啊～～\n",
    "我看了一下他們的[論文](http://knoesis.org/people/sanjayaw/papers/2017/Wijeratne_WebIntelligence_2017_Emoji_Similarity.pdf)，背後運作的方法似乎是將下面圖裡顯示的資料做成representation，然後再訓練成embedding~當然，這只是我能理解的部分，其他的我就真的看不懂惹～～\n",
    "不過！！雖然我不是完全理解背後的邏輯，但是它有API!!所以直接來實做看看吧！"
   ]
  },
  {
   "cell_type": "markdown",
   "metadata": {},
   "source": [
    "![Emoji embedding](https://i.screenshot.net/pne9gcp?b70bcdb4eeca5527bdda56e479eeec56)"
   ]
  },
  {
   "cell_type": "markdown",
   "metadata": {},
   "source": [
    "### Emoji NET API 實作 "
   ]
  },
  {
   "cell_type": "code",
   "execution_count": 25,
   "metadata": {},
   "outputs": [
    {
     "name": "stdout",
     "output_type": "stream",
     "text": [
      "[\n",
      "  {\n",
      "    \"category\": \"Emoticons -> Gesture symbols\", \n",
      "    \"description\": \"Two hands raised in the air, celebrating success or another joyous event. Raising Hands was approved as part of Unicode 6.0 in 2010 under the name 'Person Raising Both Hands in Celebration' and added to Emoji 1.0 in 2015.\", \n",
      "    \"keywords\": [\n",
      "      \"gesture\", \n",
      "      \"hand\", \n",
      "      \"celebration\", \n",
      "      \"hooray\", \n",
      "      \"raised\"\n",
      "    ], \n",
      "    \"related\": [\n",
      "      \"\\\\U0001F305\", \n",
      "      \"\\\\U0001F37B\", \n",
      "      \"\\\\U0001F389\", \n",
      "      \"\\\\U0001F38A\", \n",
      "      \"\\\\U0001F38F\", \n",
      "      \"\\\\U0001F44D\", \n",
      "      \"\\\\U0001F44F\", \n",
      "      \"\\\\U0001F481_\\\\U0000200D_\\\\U00002642_\\\\U0000FE0F\", \n",
      "      \"\\\\U0001F603\", \n",
      "      \"\\\\U0001F64B_\\\\U0000200D_\\\\U00002640_\\\\U0000FE0F\", \n",
      "      \"\\\\U0001F64B_\\\\U0000200D_\\\\U00002642_\\\\U0000FE0F\", \n",
      "      \"\\\\U0001F64B_\\\\U0001F3FB_\\\\U0000200D_\\\\U00002640_\\\\U0000FE0F\", \n",
      "      \"\\\\U0001F64B_\\\\U0001F3FB_\\\\U0000200D_\\\\U00002642_\\\\U0000FE0F\", \n",
      "      \"\\\\U0001F64B_\\\\U0001F3FD_\\\\U0000200D_\\\\U00002640_\\\\U0000FE0F\", \n",
      "      \"\\\\U0001F64B_\\\\U0001F3FD_\\\\U0000200D_\\\\U00002642_\\\\U0000FE0F\", \n",
      "      \"\\\\U0001F64B_\\\\U0001F3FE_\\\\U0000200D_\\\\U00002640_\\\\U0000FE0F\", \n",
      "      \"\\\\U0001F64B_\\\\U0001F3FE_\\\\U0000200D_\\\\U00002642_\\\\U0000FE0F\", \n",
      "      \"\\\\U000026EA\", \n",
      "      \"\\\\U0000270A\", \n",
      "      \"\\\\U0001F1EE_\\\\U0001F1F9\", \n",
      "      \"\\\\U0001F64F\", \n",
      "      \"\\\\U0001F91A\"\n",
      "    ], \n",
      "    \"shortcode\": \":raised_hands:\", \n",
      "    \"title\": \"raising hands\", \n",
      "    \"unicode\": \"U+1F64C\"\n",
      "  }\n",
      "]\n",
      "\n"
     ]
    }
   ],
   "source": [
    "#Get emoji inf.\n",
    "# 傳回description, keywords, related emoji, shortcode(應該就是上面的CLDR Short Name)\n",
    "import requests\n",
    "response = requests.get(\"http://emojinet.knoesis.org/api/emoji/U0001F64C\")  #在emoji/後面加上表情符號的unicode long\n",
    "response_text = response.text\n",
    "print(response_text)"
   ]
  },
  {
   "cell_type": "code",
   "execution_count": 22,
   "metadata": {},
   "outputs": [
    {
     "name": "stdout",
     "output_type": "stream",
     "text": [
      "[\n",
      "  {\n",
      "    \"babelnet_senseID\": \"bn:00042759n\", \n",
      "    \"term\": \"hand\"\n",
      "  }, \n",
      "  {\n",
      "    \"babelnet_senseID\": \"bn:00009676n\", \n",
      "    \"term\": \"god\"\n",
      "  }, \n",
      "  {\n",
      "    \"babelnet_senseID\": \"bn:00042759n\", \n",
      "    \"term\": \"hands\"\n",
      "  }, \n",
      "  {\n",
      "    \"babelnet_senseID\": \"bn:01193643n\", \n",
      "    \"term\": \"praise\"\n",
      "  }, \n",
      "  {\n",
      "    \"babelnet_senseID\": \"bn:00040336n\", \n",
      "    \"term\": \"gesture\"\n",
      "  }, \n",
      "  {\n",
      "    \"babelnet_senseID\": \"bn:00044716n\", \n",
      "    \"term\": \"hooray\"\n",
      "  }\n",
      "]\n",
      "\n"
     ]
    }
   ],
   "source": [
    "#Get Noun Meanings for Emoji\n",
    "response = requests.get(\"http://emojinet.knoesis.org/api/emoji/noun/U0001F64C\")\n",
    "response_text = response.text\n",
    "print(response_text)"
   ]
  },
  {
   "cell_type": "code",
   "execution_count": 23,
   "metadata": {},
   "outputs": [
    {
     "name": "stdout",
     "output_type": "stream",
     "text": [
      "{\n",
      "  \"data\": [\n",
      "    {\n",
      "      \"babelnet_senseID\": \"bn:00091913v\", \n",
      "      \"term\": \"praise\"\n",
      "    }, \n",
      "    {\n",
      "      \"babelnet_senseID\": \"bn:13629680v\", \n",
      "      \"term\": \"hooray\"\n",
      "    }\n",
      "  ]\n",
      "}\n",
      "\n"
     ]
    }
   ],
   "source": [
    "#Get Verb Meanings for Emoji\n",
    "response = requests.get(\"http://emojinet.knoesis.org/api/emoji/verb/U0001F64C\")\n",
    "response_text = response.text\n",
    "print(response_text)"
   ]
  },
  {
   "cell_type": "markdown",
   "metadata": {},
   "source": [
    "實作完API之後，我只有一個感想：真是狂人啊😵連這種東西都想得出來～～真令人甘拜下風！"
   ]
  }
 ],
 "metadata": {
  "kernelspec": {
   "display_name": "Python 3",
   "language": "python",
   "name": "python3"
  },
  "language_info": {
   "codemirror_mode": {
    "name": "ipython",
    "version": 3
   },
   "file_extension": ".py",
   "mimetype": "text/x-python",
   "name": "python",
   "nbconvert_exporter": "python",
   "pygments_lexer": "ipython3",
   "version": "3.7.2"
  }
 },
 "nbformat": 4,
 "nbformat_minor": 2
}
