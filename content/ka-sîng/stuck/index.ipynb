{
 "cells": [
  {
   "cell_type": "markdown",
   "metadata": {},
   "source": [
    "卡...卡住了\\_(:з」∠)\\_\n",
    "\n",
    "原本循著上禮拜的腳步，我應該要接著分析兩張卡表中卡片的效果文的。由於我並沒有把抓下來的資料匯出，於是我把上次的code重新跑一遍。\n",
    "\n",
    "結果跑到一半的時候，發生了意外："
   ]
  },
  {
   "cell_type": "code",
   "execution_count": 26,
   "metadata": {
    "scrolled": true
   },
   "outputs": [
    {
     "ename": "IndexError",
     "evalue": "list index out of range",
     "output_type": "error",
     "traceback": [
      "\u001b[0;31m---------------------------------------------------------------------------\u001b[0m",
      "\u001b[0;31mIndexError\u001b[0m                                Traceback (most recent call last)",
      "\u001b[0;32m<ipython-input-26-a3ad12f7c44e>\u001b[0m in \u001b[0;36m<module>\u001b[0;34m()\u001b[0m\n\u001b[1;32m     16\u001b[0m \u001b[0mlist_TCG_nomi\u001b[0m \u001b[0;34m=\u001b[0m \u001b[0mlist_TCG\u001b[0m\u001b[0;34m.\u001b[0m\u001b[0mcopy\u001b[0m\u001b[0;34m(\u001b[0m\u001b[0;34m)\u001b[0m\u001b[0;34m\u001b[0m\u001b[0m\n\u001b[1;32m     17\u001b[0m \u001b[0;32mfor\u001b[0m \u001b[0mj\u001b[0m \u001b[0;32min\u001b[0m \u001b[0mrange\u001b[0m\u001b[0;34m(\u001b[0m\u001b[0mlen\u001b[0m\u001b[0;34m(\u001b[0m\u001b[0mlist_OCG_nomi\u001b[0m\u001b[0;34m)\u001b[0m\u001b[0;34m)\u001b[0m\u001b[0;34m:\u001b[0m\u001b[0;34m\u001b[0m\u001b[0m\n\u001b[0;32m---> 18\u001b[0;31m     \u001b[0mlist_OCG_nomi\u001b[0m\u001b[0;34m[\u001b[0m\u001b[0mj\u001b[0m\u001b[0;34m]\u001b[0m\u001b[0;34m.\u001b[0m\u001b[0mappend\u001b[0m\u001b[0;34m(\u001b[0m\u001b[0mget_card_text\u001b[0m\u001b[0;34m(\u001b[0m\u001b[0mlink_front\u001b[0m \u001b[0;34m+\u001b[0m \u001b[0mlist_OCG_nomi\u001b[0m\u001b[0;34m[\u001b[0m\u001b[0mj\u001b[0m\u001b[0;34m]\u001b[0m\u001b[0;34m[\u001b[0m\u001b[0;36m3\u001b[0m\u001b[0;34m]\u001b[0m\u001b[0;34m)\u001b[0m\u001b[0;34m)\u001b[0m\u001b[0;34m\u001b[0m\u001b[0m\n\u001b[0m\u001b[1;32m     19\u001b[0m \u001b[0;32mfor\u001b[0m \u001b[0mj\u001b[0m \u001b[0;32min\u001b[0m \u001b[0mrange\u001b[0m\u001b[0;34m(\u001b[0m\u001b[0mlen\u001b[0m\u001b[0;34m(\u001b[0m\u001b[0mlist_TCG_nomi\u001b[0m\u001b[0;34m)\u001b[0m\u001b[0;34m)\u001b[0m\u001b[0;34m:\u001b[0m\u001b[0;34m\u001b[0m\u001b[0m\n\u001b[1;32m     20\u001b[0m     \u001b[0mlist_TCG_nomi\u001b[0m\u001b[0;34m[\u001b[0m\u001b[0mj\u001b[0m\u001b[0;34m]\u001b[0m\u001b[0;34m.\u001b[0m\u001b[0mappend\u001b[0m\u001b[0;34m(\u001b[0m\u001b[0mget_card_text\u001b[0m\u001b[0;34m(\u001b[0m\u001b[0mlink_front\u001b[0m \u001b[0;34m+\u001b[0m \u001b[0mlist_TCG_nomi\u001b[0m\u001b[0;34m[\u001b[0m\u001b[0mj\u001b[0m\u001b[0;34m]\u001b[0m\u001b[0;34m[\u001b[0m\u001b[0;36m3\u001b[0m\u001b[0;34m]\u001b[0m\u001b[0;34m)\u001b[0m\u001b[0;34m)\u001b[0m\u001b[0;34m\u001b[0m\u001b[0m\n",
      "\u001b[0;32m<ipython-input-26-a3ad12f7c44e>\u001b[0m in \u001b[0;36mget_card_text\u001b[0;34m(url)\u001b[0m\n\u001b[1;32m      9\u001b[0m     \u001b[0msoup\u001b[0m \u001b[0;34m=\u001b[0m \u001b[0mbs\u001b[0m\u001b[0;34m(\u001b[0m\u001b[0mhtml\u001b[0m\u001b[0;34m)\u001b[0m\u001b[0;34m\u001b[0m\u001b[0m\n\u001b[1;32m     10\u001b[0m     \u001b[0;31m# get the card text\u001b[0m\u001b[0;34m\u001b[0m\u001b[0;34m\u001b[0m\u001b[0m\n\u001b[0;32m---> 11\u001b[0;31m     \u001b[0mcard_text\u001b[0m \u001b[0;34m=\u001b[0m \u001b[0msoup\u001b[0m\u001b[0;34m.\u001b[0m\u001b[0mselect\u001b[0m\u001b[0;34m(\u001b[0m\u001b[0;34m'table.collapsible.expanded.navbox-inner td:nth-of-type(1)'\u001b[0m\u001b[0;34m)\u001b[0m\u001b[0;34m[\u001b[0m\u001b[0;36m1\u001b[0m\u001b[0;34m]\u001b[0m\u001b[0;34m.\u001b[0m\u001b[0mtext\u001b[0m\u001b[0;34m\u001b[0m\u001b[0m\n\u001b[0m\u001b[1;32m     12\u001b[0m     \u001b[0mcard_text\u001b[0m \u001b[0;34m=\u001b[0m \u001b[0mcard_text\u001b[0m\u001b[0;34m.\u001b[0m\u001b[0mstrip\u001b[0m\u001b[0;34m(\u001b[0m\u001b[0;34m)\u001b[0m\u001b[0;34m\u001b[0m\u001b[0m\n\u001b[1;32m     13\u001b[0m     \u001b[0;32mreturn\u001b[0m \u001b[0mcard_text\u001b[0m\u001b[0;34m\u001b[0m\u001b[0m\n",
      "\u001b[0;31mIndexError\u001b[0m: list index out of range"
     ]
    }
   ],
   "source": [
    "import requests\n",
    "from bs4 import BeautifulSoup as bs\n",
    "\n",
    "link_front = \"https://yugioh.fandom.com\"\n",
    "\n",
    "def get_card_text(url):\n",
    "    request = requests.get(url)\n",
    "    html = request.text\n",
    "    soup = bs(html)\n",
    "    # get the card text\n",
    "    card_text = soup.select('table.collapsible.expanded.navbox-inner td:nth-of-type(1)')[1].text\n",
    "    card_text = card_text.strip()\n",
    "    return card_text\n",
    "\n",
    "list_OCG_nomi = list_OCG.copy()\n",
    "list_TCG_nomi = list_TCG.copy()\n",
    "for j in range(len(list_OCG_nomi)):\n",
    "    list_OCG_nomi[j].append(get_card_text(link_front + list_OCG_nomi[j][3]))\n",
    "for j in range(len(list_TCG_nomi)):\n",
    "    list_TCG_nomi[j].append(get_card_text(link_front + list_TCG_nomi[j][3]))"
   ]
  },
  {
   "cell_type": "markdown",
   "metadata": {},
   "source": [
    "#### ？？？？？\n",
    "\n",
    "List index out of range是怎麼發生的？\n",
    "\n",
    "於是檢查了一下list_OCG_nomi的情況："
   ]
  },
  {
   "cell_type": "code",
   "execution_count": 27,
   "metadata": {
    "scrolled": true
   },
   "outputs": [
    {
     "data": {
      "text/plain": [
       "[['Amazoness Archer',\n",
       "  'Monster',\n",
       "  'Forbidden',\n",
       "  '/wiki/Amazoness_Archer',\n",
       "  'You can Tribute 2 monsters; inflict 1200 damage to your opponent.'],\n",
       " ['Blackwing - Steam the Cloak',\n",
       "  'Monster',\n",
       "  'Forbidden',\n",
       "  '/wiki/Blackwing_-_Steam_the_Cloak',\n",
       "  'If this face-up card leaves the field: Special Summon 1 \"Steam Token\" (Aqua-Type/WIND/Level 1/ATK 100/DEF 100). If this card is in your Graveyard: You can Tribute 1 monster; Special Summon this card from the Graveyard. You can only use this effect of \"Blackwing - Steam the Cloak\" once per Duel. If this card Summoned this way is used as a Synchro Material Monster, all other Synchro Material Monsters must be \"Blackwing\" monsters.'],\n",
       " ['Cannon Soldier', 'Monster', 'Forbidden', '/wiki/Cannon_Soldier'],\n",
       " ['Cannon Soldier MK-2', 'Monster', 'Forbidden', '/wiki/Cannon_Soldier_MK-2'],\n",
       " ['Glow-Up Bulb', 'Monster', 'Forbidden', '/wiki/Glow-Up_Bulb'],\n",
       " ...\n",
       " ...\n",
       " ...\n"
      ]
     },
     "execution_count": 27,
     "metadata": {},
     "output_type": "execute_result"
    }
   ],
   "source": [
    "list_OCG_nomi"
   ]
  },
  {
   "cell_type": "markdown",
   "metadata": {},
   "source": [
    "不知道為何到第三個就卡住了，於是把第三張牌的網址單獨抽出來看："
   ]
  },
  {
   "cell_type": "code",
   "execution_count": 32,
   "metadata": {},
   "outputs": [
    {
     "data": {
      "text/plain": [
       "[]"
      ]
     },
     "execution_count": 32,
     "metadata": {},
     "output_type": "execute_result"
    }
   ],
   "source": [
    "url = 'https://yugioh.fandom.com/wiki/Cannon_Soldier'\n",
    "request = requests.get(url)\n",
    "html = request.text\n",
    "soup = bs(html)\n",
    "soup.select('table.collapsible.expanded.navbox-inner td:nth-of-type(1)')\n",
    "soup.select('table')"
   ]
  },
  {
   "cell_type": "markdown",
   "metadata": {},
   "source": [
    "還真的是空的，連table的label都選不到。\n",
    "\n",
    "但是那個網站還是有內容的，甚至可以找得到table的label。"
   ]
  },
  {
   "cell_type": "code",
   "execution_count": 33,
   "metadata": {},
   "outputs": [
    {
     "data": {
      "text/plain": [
       "<!DOCTYPE html>\n",
       "<html class=\"\" dir=\"ltr\" lang=\"en\">\n",
       "<head>\n",
       "<meta content=\"text/html; charset=utf-8\" http-equiv=\"Content-Type\"/>\n",
       "<meta content=\"width=device-width, user-scalable=yes\" name=\"viewport\"/>\n",
       "<meta content=\"MediaWiki 1.19.24\" name=\"generator\"/>\n",
       "<meta content=\"Yu-Gi-Oh!,yugioh,Cannon Soldier,Cannon Soldier,Cannon Soldier,Cannon Soldier,Card type,Monster Card,Attribute,DARK,Type,Machine,Effect Monster\" name=\"keywords\"/>\n",
       "<meta content=\"The Arabic, Chinese, Croatian, Greek, Polish andThai names given are not official. (card names) The Chinese lore given is not official.\" name=\"description\"/>\n",
       "<meta content=\"summary\" name=\"twitter:card\"/>\n",
       "<meta content=\"@getfandom\" name=\"twitter:site\"/>\n",
       "...\n",
       "...\n",
       "...\n",
       "<div class=\"dablink\">The <b>Chinese              </b> lore given is not official. </div>\n",
       "<table class=\"cardtable\">\n",
       "<tr>\n",
       "<th class=\"cardtable-header\" colspan=\"3\" style=\"background-color: #F93; color: #000;\">Cannon Soldier<br /><span class=\"cardtable-subheader\"><span lang=\"ja\">キャノン ・ ソルジャー</span></span></th>\n",
       "...\n",
       "...\n",
       "...\n"
      ]
     },
     "execution_count": 33,
     "metadata": {},
     "output_type": "execute_result"
    }
   ],
   "source": [
    "soup"
   ]
  },
  {
   "cell_type": "markdown",
   "metadata": {},
   "source": [
    "在其他頁面卻可以正常選到："
   ]
  },
  {
   "cell_type": "code",
   "execution_count": 36,
   "metadata": {},
   "outputs": [
    {
     "data": {
      "text/plain": [
       "'\\nYou can Tribute 2 monsters; inflict 1200 damage to your opponent.'"
      ]
     },
     "execution_count": 36,
     "metadata": {},
     "output_type": "execute_result"
    }
   ],
   "source": [
    "url2 = 'https://yugioh.fandom.com/wiki/Amazoness_Archer'\n",
    "request2 = requests.get(url2)\n",
    "html2 = request2.text\n",
    "soup2 = bs(html2)\n",
    "soup2.select('table.collapsible.expanded.navbox-inner td:nth-of-type(1)')[1].text\n"
   ]
  },
  {
   "cell_type": "markdown",
   "metadata": {},
   "source": [
    "暫時不知道該怎麼辦了\\_(:з」∠)\\_"
   ]
  }
 ],
 "metadata": {
  "kernelspec": {
   "display_name": "Python 3",
   "language": "python",
   "name": "python3"
  },
  "language_info": {
   "codemirror_mode": {
    "name": "ipython",
    "version": 3
   },
   "file_extension": ".py",
   "mimetype": "text/x-python",
   "name": "python",
   "nbconvert_exporter": "python",
   "pygments_lexer": "ipython3",
   "version": "3.7.0"
  }
 },
 "nbformat": 4,
 "nbformat_minor": 2
}
