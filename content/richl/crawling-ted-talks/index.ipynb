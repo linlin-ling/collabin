{
 "cells": [
  {
   "cell_type": "markdown",
   "metadata": {},
   "source": [
    "# Crawling TED talks\n",
    "\n",
    "After gathering subtitles from the OpenSubtitles parallel corpora, I've set my sights on the translations that are available for most TED talks. According to the [official website](https://ted.com), TED is a nonprofit organization devoted to spreading ideas.\n",
    "\n",
    "The transcriptions are ideal for a parallel corpus because the translation process is supervised and quality is ensured through the use of a style guide and reviewers who are experienced and check on the quality of a translation. \n",
    "\n",
    "Instead of crawling directly from the official website, I will use the [TCSE: Ted Corpus Search Engine](https://yohasebe.com/tcse/) because the transcriptions are already organized with helpful metadata, such as timestamps. Furthermore, the website provides a helpful option to combine subtitles into sentences, which is based on the English timestamps. If lines in an English transcription are combined, then the corresponding timestamps in another language will be used to combine transcriptions. I think.\n",
    "\n",
    "Below is my code for crawling the transcriptions."
   ]
  },
  {
   "cell_type": "code",
   "execution_count": null,
   "metadata": {},
   "outputs": [],
   "source": [
    "from time import sleep\n",
    "\n",
    "from selenium import webdriver\n",
    "from selenium.webdriver.chrome.options import Options\n",
    "from selenium.common.exceptions import UnexpectedAlertPresentException"
   ]
  },
  {
   "cell_type": "markdown",
   "metadata": {},
   "source": [
    "The code below is used to find videos that have either traditional or simplified Chinese subtitles."
   ]
  },
  {
   "cell_type": "code",
   "execution_count": null,
   "metadata": {},
   "outputs": [],
   "source": [
    "opts = Options()\n",
    "opts.add_argument(\"user-agent=Mozilla/5.0 (X11; Linux x86_64) AppleWebKit/537.36 (KHTML, like Gecko) Chrome/74.0.3729.169 Safari/537.36\")\n",
    "\n",
    "driver = webdriver.Chrome('./chromedriver', chrome_options=opts)\n",
    "driver.get('https://yohasebe.com/tcse/')\n",
    "\n",
    "# Select language (4 for simplified, 5 for traditional)\n",
    "driver.find_element_by_xpath('''//*[@id=\"trans_selector\"]/option[4]''').click()\n",
    "\n",
    "# Use Expanded Segments (combines subtitles into a complete sentence)\n",
    "driver.find_element_by_xpath('''//*[@id=\"expanded\"]''').click()\n",
    "\n",
    "# List all available talks\n",
    "driver.find_element_by_xpath('''//*[@id=\"list_all\"]''').click()\n",
    "sleep(2)\n",
    "\n",
    "talk_ids = []\n",
    "# These 'tbuttons' are to go to the next page of results.\n",
    "tbuttons = [f\"tbutton-{i}\" for i in range(1, 13)]\n",
    "\n",
    "for tbutton in tbuttons:\n",
    "    driver.find_element_by_css_selector(f\"#{tbutton}\").click()\n",
    "    sleep(2)\n",
    "    talk_id_spans = driver.find_elements_by_css_selector(\".talk_id\")\n",
    "    for talk in talk_id_spans:\n",
    "        _id = talk.get_attribute(\"talk_id\")\n",
    "        talk_ids.append(_id)"
   ]
  },
  {
   "cell_type": "markdown",
   "metadata": {},
   "source": [
    "This next block is to get the actual transcriptions for a TED talk. Traditional and simplified will each have their own folders containing transcriptions. Each file name is the ID that a video is assigned. These will eventually be combined into corresponding traditional-simplified pairs."
   ]
  },
  {
   "cell_type": "code",
   "execution_count": null,
   "metadata": {},
   "outputs": [],
   "source": [
    "def get_ted_trans(lang, vid_ids):\n",
    "    \n",
    "    if lang == 'tm':\n",
    "        BASE_URL = \"https://yohasebe.com/tcse/v/medium/{}/sentence/1/4/1.00/f/f/14/100/yt\"\n",
    "        translation_selector = \"td.sec_tr.lcode_zh-tw > span\"\n",
    "        output_path = Path(\"./ted_tm_trans\")\n",
    "    elif lang == 'mm':\n",
    "        BASE_URL = \"https://yohasebe.com/tcse/v/medium/{}/sentence/1/3/1.00/f/f/14/100/yt\"\n",
    "        translation_selector = \"td.sec_tr.lcode_zh-cn > span\"\n",
    "        output_path = Path(\"./ted_mm_trans\")\n",
    "    else:\n",
    "        raise ValueError(\"No such choice.\")\n",
    "    \n",
    "    opts = Options()\n",
    "    opts.add_argument(\"user-agent=mozilla/5.0 (x11; linux x86_64) applewebkit/537.36 (khtml, like gecko) chrome/74.0.3729.169 safari/537.36\")\n",
    "    transcriptions = []\n",
    "    driver = webdriver.Chrome('./chromedriver', chrome_options=opts)\n",
    "    \n",
    "    for idx, vid_id in enumerate(vid_ids, 1):\n",
    "        output_file = output_path.joinpath(f\"{vid_id}.pkl\")\n",
    "        if output_file.exists():\n",
    "            continue\n",
    "        driver.get(BASE_URL.format(vid_id))\n",
    "        sleep(3)\n",
    "        \n",
    "        while True:\n",
    "            try:\n",
    "                segline = driver.find_elements_by_css_selector(\".segline\")\n",
    "            except UnexpectedAlertPresentException:\n",
    "                driver.switch_to.alert.accept()\n",
    "                sleep(3)\n",
    "            else:\n",
    "                break\n",
    "                \n",
    "        for line in segline:\n",
    "            order = line.find_element_by_css_selector(\".seq\").text\n",
    "            timestamp = line.find_element_by_css_selector(\".time\").text\n",
    "            milliseconds = line.find_element_by_css_selector(\".sec\").get_attribute(\"millisec\")\n",
    "            english = line.find_element_by_css_selector(\".sec span.en strong\").text\n",
    "            translation = line.find_element_by_css_selector(translation_selector).text\n",
    "            transcriptions.append({\n",
    "                'vid_id': vid_id,\n",
    "                'order': order,\n",
    "                'timestamp': timestamp,\n",
    "                'milliseconds': milliseconds,\n",
    "                'english': english,\n",
    "                'translation': translation\n",
    "            })\n",
    "            \n",
    "        with output_file.open('wb') as f:\n",
    "            pickle.dump(transcriptions, f)\n",
    "            \n",
    "        if idx % 100 == 0:\n",
    "            print(f\"Completed {idx} of {len(vid_ids)}\")\n",
    "            \n",
    "    driver.close()"
   ]
  }
 ],
 "metadata": {
  "kernelspec": {
   "display_name": "test",
   "language": "python",
   "name": "test"
  },
  "language_info": {
   "codemirror_mode": {
    "name": "ipython",
    "version": 3
   },
   "file_extension": ".py",
   "mimetype": "text/x-python",
   "name": "python",
   "nbconvert_exporter": "python",
   "pygments_lexer": "ipython3",
   "version": "3.7.0"
  }
 },
 "nbformat": 4,
 "nbformat_minor": 2
}
