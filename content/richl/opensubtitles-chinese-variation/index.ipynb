{
 "cells": [
  {
   "cell_type": "markdown",
   "metadata": {},
   "source": [
    "These are subtitles from the OpenSubtitles corpus along with some of my own that I crawled. \n",
    "\n",
    "There are a ton of subtitles that are literal translations of each other. I tried my best to filter them out. This is the result...\n",
    "\n",
    "The goal is to find some interesting things between Taiwan Mandarin and Mainland Mandarin..."
   ]
  },
  {
   "cell_type": "code",
   "execution_count": 37,
   "metadata": {},
   "outputs": [],
   "source": [
    "from collections import Counter\n",
    "from itertools import chain\n",
    "import pickle\n",
    "import string\n",
    "\n",
    "from jseg import Jieba\n",
    "from opencc import OpenCC\n",
    "from zhon.hanzi import punctuation"
   ]
  },
  {
   "cell_type": "code",
   "execution_count": 6,
   "metadata": {},
   "outputs": [],
   "source": [
    "with open('all_subs.txt') as f:\n",
    "    subs = [line.strip().split('\\t') for line in f.readlines()]"
   ]
  },
  {
   "cell_type": "code",
   "execution_count": 7,
   "metadata": {},
   "outputs": [
    {
     "data": {
      "text/plain": [
       "[['你老是跟我說', '你老是告诉我'],\n",
       " ['你不擔心它變得比人類聰明嗎？', '创世纪不仅为消费者打造'],\n",
       " ['就我一人', '让我去。'],\n",
       " ['各位，安全是第一優先', '他在那儿逗她笑'],\n",
       " ['喂媽媽', '喂,妈'],\n",
       " ['我想是的我不認為我還有淚', '大概不再有了'],\n",
       " ['我的意思是馬上就要', '表示我现在就要!'],\n",
       " ['-你「覺得」？', '我觉得你会在这边用早餐'],\n",
       " ['你是如何回答的', '对'],\n",
       " ['丹，你怎麼了？', '洗碗洗碗!']]"
      ]
     },
     "execution_count": 7,
     "metadata": {},
     "output_type": "execute_result"
    }
   ],
   "source": [
    "# [TM, MM]\n",
    "subs[:10]"
   ]
  },
  {
   "cell_type": "code",
   "execution_count": 9,
   "metadata": {},
   "outputs": [],
   "source": [
    "tm, mm = zip(*subs)"
   ]
  },
  {
   "cell_type": "code",
   "execution_count": 10,
   "metadata": {},
   "outputs": [
    {
     "name": "stdout",
     "output_type": "stream",
     "text": [
      "2953619 2953619\n"
     ]
    }
   ],
   "source": [
    "print(len(tm), len(mm))"
   ]
  },
  {
   "cell_type": "code",
   "execution_count": 11,
   "metadata": {},
   "outputs": [],
   "source": [
    "s2tw = OpenCC('s2tw')"
   ]
  },
  {
   "cell_type": "code",
   "execution_count": 12,
   "metadata": {},
   "outputs": [],
   "source": [
    "# Going to use Jseg, so I'll convert to traditional\n",
    "mm = [s2tw.convert(line) for line in mm]"
   ]
  },
  {
   "cell_type": "code",
   "execution_count": 14,
   "metadata": {},
   "outputs": [
    {
     "name": "stderr",
     "output_type": "stream",
     "text": [
      "DEBUG:jseg.jieba:loading default dictionary\n"
     ]
    }
   ],
   "source": [
    "j = Jieba()\n",
    "tm_seg = [j.seg(line) for line in tm]\n",
    "mm_seg = [j.seg(line) for line in mm]"
   ]
  },
  {
   "cell_type": "code",
   "execution_count": 17,
   "metadata": {},
   "outputs": [],
   "source": [
    "# segmenting actually takes a super long time. Probably should have used multiprocessing...\n",
    "with open('tm_seg.pkl', 'wb') as f:\n",
    "    pickle.dump(tm_seg, f)\n",
    "with open('mm_seg.pkl', 'wb') as f:\n",
    "    pickle.dump(mm_seg, f)"
   ]
  },
  {
   "cell_type": "code",
   "execution_count": 19,
   "metadata": {},
   "outputs": [
    {
     "data": {
      "text/plain": [
       "(('你', '老是', '跟', '我', '說'), ('你', '老是', '告訴', '我'))"
      ]
     },
     "execution_count": 19,
     "metadata": {},
     "output_type": "execute_result"
    }
   ],
   "source": [
    "tm_seg[0], mm_seg[0]"
   ]
  },
  {
   "cell_type": "code",
   "execution_count": 21,
   "metadata": {},
   "outputs": [],
   "source": [
    "# use chain.from_iterable() to flatten a list of lists\n",
    "tm_flat = chain.from_iterable(tm_seg)\n",
    "mm_flat = chain.from_iterable(mm_seg)"
   ]
  },
  {
   "cell_type": "code",
   "execution_count": 22,
   "metadata": {},
   "outputs": [
    {
     "data": {
      "text/plain": [
       "itertools.chain"
      ]
     },
     "execution_count": 22,
     "metadata": {},
     "output_type": "execute_result"
    }
   ],
   "source": [
    "# it is an itertools.chain object\n",
    "type(tm_flat)"
   ]
  },
  {
   "cell_type": "code",
   "execution_count": 23,
   "metadata": {},
   "outputs": [],
   "source": [
    "tm_count = Counter(tm_flat)\n",
    "mm_count = Counter(mm_flat)"
   ]
  },
  {
   "cell_type": "code",
   "execution_count": 27,
   "metadata": {},
   "outputs": [],
   "source": [
    "with open('baidu_stopwords.txt') as f:\n",
    "    stopwords = [s2tw.convert(s) for s in f.read().split('\\n')]"
   ]
  },
  {
   "cell_type": "code",
   "execution_count": 39,
   "metadata": {},
   "outputs": [],
   "source": [
    "# remove stopwords\n",
    "for s in stopwords:\n",
    "    if s in tm_count:\n",
    "        del tm_count[s]\n",
    "    if s in mm_count:\n",
    "        del mm_count[s]\n",
    "# remove punctuation\n",
    "for p in list(punctuation + string.punctuation):\n",
    "    if p in tm_count:\n",
    "        del tm_count[p]\n",
    "    if p in mm_count:\n",
    "        del mm_count[p]"
   ]
  },
  {
   "cell_type": "code",
   "execution_count": 40,
   "metadata": {
    "scrolled": true
   },
   "outputs": [
    {
     "name": "stdout",
     "output_type": "stream",
     "text": [
      "('說', 100901) ('知道', 104963)\n",
      "('知道', 99615) ('說', 103681)\n",
      "('他們', 92660) ('他們', 97454)\n",
      "('會', 86571) ('會', 86729)\n",
      "('想', 75782) ('想', 77671)\n",
      "('沒有', 56905) ('沒有', 61480)\n",
      "('做', 52416) ('做', 56454)\n",
      "('沒', 47848) ('現在', 50511)\n",
      "('現在', 46849) ('沒', 47361)\n",
      "('妳', 41502) ('裡', 33924)\n",
      "('不會', 32791) ('不會', 33755)\n",
      "('事', 32227) ('告訴', 32420)\n",
      "('告訴', 29883) ('事', 31524)\n",
      "('走', 28838) ('需要', 30272)\n",
      "('需要', 28717) ('走', 29971)\n",
      "('先生', 27811) ('先生', 29005)\n",
      "('不能', 26325) ('已經', 28895)\n",
      "('次', 26280) ('不能', 27154)\n",
      "('已經', 25307) ('次', 26872)\n",
      "('什么', 24435) ('覺得', 24653)\n",
      "('真的', 24097) ('喜歡', 24528)\n",
      "('喜歡', 23293) ('真的', 23885)\n",
      "('快', 22933) ('東西', 23537)\n",
      "('覺得', 22313) ('謝謝', 22772)\n",
      "('種', 22002) ('種', 22300)\n",
      "('謝謝', 21854) ('快', 21980)\n",
      "('東西', 21768) ('不要', 20994)\n",
      "('我要', 20897) ('我要', 20659)\n",
      "('不要', 20727) ('我會', 20542)\n",
      "('我會', 19727) ('問題', 20202)\n",
      "('問題', 19424) ('好了', 19939)\n",
      "('兩', 19129) ('兩', 19270)\n",
      "('看到', 18919) ('可能', 19264)\n",
      "('好了', 18905) ('應該', 19154)\n",
      "('應該', 18838) ('看到', 18968)\n",
      "('找', 18569) ('個人', 18891)\n",
      "('可能', 18534) ('太', 18341)\n",
      "('太', 18167) ('找', 18077)\n",
      "('個人', 17916) ('時間', 17453)\n",
      "('裡', 17690) ('請', 17445)\n",
      "('請', 17183) ('中', 16255)\n",
      "('幫', 16802) ('工作', 16023)\n",
      "('時間', 16211) ('幫', 16000)\n",
      "('工作', 15217) ('孩子', 15972)\n",
      "('找到', 15022) ('一下', 15645)\n",
      "('中', 15003) ('更', 15562)\n",
      "('一下', 14977) ('找到', 15510)\n",
      "('真', 14858) ('相信', 14989)\n",
      "('聽', 14667) ('看看', 14861)\n",
      "('相信', 14646) ('聽', 14775)\n"
     ]
    }
   ],
   "source": [
    "# not sure what I can gather from this...\n",
    "for t, m in zip(tm_count.most_common(50), mm_count.most_common(50)):\n",
    "    print(t, m)"
   ]
  },
  {
   "cell_type": "code",
   "execution_count": null,
   "metadata": {},
   "outputs": [],
   "source": []
  }
 ],
 "metadata": {
  "kernelspec": {
   "display_name": "test",
   "language": "python",
   "name": "test"
  },
  "language_info": {
   "codemirror_mode": {
    "name": "ipython",
    "version": 3
   },
   "file_extension": ".py",
   "mimetype": "text/x-python",
   "name": "python",
   "nbconvert_exporter": "python",
   "pygments_lexer": "ipython3",
   "version": "3.7.0"
  }
 },
 "nbformat": 4,
 "nbformat_minor": 2
}
